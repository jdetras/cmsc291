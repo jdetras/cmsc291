{
  "nbformat": 4,
  "nbformat_minor": 0,
  "metadata": {
    "colab": {
      "name": "pineapple_growth_approximation_using_rnn.ipynb",
      "version": "0.3.2",
      "provenance": [],
      "collapsed_sections": [],
      "toc_visible": true,
      "include_colab_link": true
    },
    "kernelspec": {
      "name": "python3",
      "display_name": "Python 3"
    },
    "accelerator": "GPU"
  },
  "cells": [
    {
      "cell_type": "markdown",
      "metadata": {
        "id": "view-in-github",
        "colab_type": "text"
      },
      "source": [
        "<a href=\"https://colab.research.google.com/github/jdetras/cmsc291/blob/dev/pineapple_growth_approximation_using_rnn.ipynb\" target=\"_parent\"><img src=\"https://colab.research.google.com/assets/colab-badge.svg\" alt=\"Open In Colab\"/></a>"
      ]
    },
    {
      "metadata": {
        "id": "cJm2bHiD9dx9",
        "colab_type": "text"
      },
      "cell_type": "markdown",
      "source": [
        "# Time-series Approximation of Simulated Crop Growth from DSSAT models of Pineapple (*Ananas comosus*) using Recurrent Neural Networks\n"
      ]
    },
    {
      "metadata": {
        "id": "SWCWgD6B9rSg",
        "colab_type": "text"
      },
      "cell_type": "markdown",
      "source": [
        "**Setup Colaboratory**\n",
        "\n"
      ]
    },
    {
      "metadata": {
        "id": "ntvye3x29Jyl",
        "colab_type": "code",
        "colab": {}
      },
      "cell_type": "code",
      "source": [
        "import tensorflow as tf"
      ],
      "execution_count": 0,
      "outputs": []
    },
    {
      "metadata": {
        "id": "JQHwkPEPAVgx",
        "colab_type": "text"
      },
      "cell_type": "markdown",
      "source": [
        "**Data processing**"
      ]
    },
    {
      "metadata": {
        "id": "mAD_sL_qBJ6C",
        "colab_type": "code",
        "colab": {}
      },
      "cell_type": "code",
      "source": [
        "mnist = tf.keras.datasets.mnist\n",
        "\n",
        "(x_train, y_train),(x_test, y_test) = mnist.load_data()\n",
        "x_train, x_test = x_train / 255.0, x_test / 255.0"
      ],
      "execution_count": 0,
      "outputs": []
    },
    {
      "metadata": {
        "id": "0fTad91dAYgz",
        "colab_type": "text"
      },
      "cell_type": "markdown",
      "source": [
        "**Defining the model**"
      ]
    },
    {
      "metadata": {
        "id": "QWrKyxH6BOk7",
        "colab_type": "code",
        "colab": {}
      },
      "cell_type": "code",
      "source": [
        "model = tf.keras.models.Sequential([\n",
        "  tf.keras.layers.Flatten(),\n",
        "  tf.keras.layers.Dense(512, activation=tf.nn.relu),\n",
        "  tf.keras.layers.Dropout(0.2),\n",
        "  tf.keras.layers.Dense(10, activation=tf.nn.softmax)\n",
        "])\n",
        "model.compile(optimizer='adam',\n",
        "              loss='sparse_categorical_crossentropy',\n",
        "              metrics=['accuracy'])"
      ],
      "execution_count": 0,
      "outputs": []
    },
    {
      "metadata": {
        "id": "qdlm_WqsAg7Y",
        "colab_type": "text"
      },
      "cell_type": "markdown",
      "source": [
        "**Fitting the model**"
      ]
    },
    {
      "metadata": {
        "id": "uWSlmGw4BSez",
        "colab_type": "code",
        "colab": {
          "base_uri": "https://localhost:8080/",
          "height": 202
        },
        "outputId": "ac4bbfc0-d006-491b-a102-2a1630311290"
      },
      "cell_type": "code",
      "source": [
        "model.fit(x_train, y_train, epochs=5)"
      ],
      "execution_count": 4,
      "outputs": [
        {
          "output_type": "stream",
          "text": [
            "Epoch 1/5\n",
            "60000/60000 [==============================] - 10s 161us/step - loss: 0.2020 - acc: 0.9406\n",
            "Epoch 2/5\n",
            "60000/60000 [==============================] - 9s 147us/step - loss: 0.0801 - acc: 0.9762\n",
            "Epoch 3/5\n",
            "60000/60000 [==============================] - 9s 147us/step - loss: 0.0531 - acc: 0.9828\n",
            "Epoch 4/5\n",
            "60000/60000 [==============================] - 9s 147us/step - loss: 0.0361 - acc: 0.9882\n",
            "Epoch 5/5\n",
            "60000/60000 [==============================] - 9s 146us/step - loss: 0.0269 - acc: 0.9913\n"
          ],
          "name": "stdout"
        },
        {
          "output_type": "execute_result",
          "data": {
            "text/plain": [
              "<tensorflow.python.keras.callbacks.History at 0x7f94cf3cb320>"
            ]
          },
          "metadata": {
            "tags": []
          },
          "execution_count": 4
        }
      ]
    },
    {
      "metadata": {
        "id": "-fdShdtxAtnM",
        "colab_type": "text"
      },
      "cell_type": "markdown",
      "source": [
        "**Testing the model**"
      ]
    },
    {
      "metadata": {
        "id": "XiGolq8IBUs2",
        "colab_type": "code",
        "colab": {
          "base_uri": "https://localhost:8080/",
          "height": 50
        },
        "outputId": "9eb64476-b25f-47a6-cfc3-49b504662f31"
      },
      "cell_type": "code",
      "source": [
        "model.evaluate(x_test, y_test)"
      ],
      "execution_count": 5,
      "outputs": [
        {
          "output_type": "stream",
          "text": [
            "10000/10000 [==============================] - 1s 72us/step\n"
          ],
          "name": "stdout"
        },
        {
          "output_type": "execute_result",
          "data": {
            "text/plain": [
              "[0.07231727115024114, 0.9782]"
            ]
          },
          "metadata": {
            "tags": []
          },
          "execution_count": 5
        }
      ]
    },
    {
      "metadata": {
        "id": "C5Ifq6luA5hK",
        "colab_type": "text"
      },
      "cell_type": "markdown",
      "source": [
        "**Compare with DSSAT model**"
      ]
    },
    {
      "metadata": {
        "id": "__m3XgTa-eee",
        "colab_type": "text"
      },
      "cell_type": "markdown",
      "source": [
        "**References**\n",
        "\n",
        "\n",
        "1.   Colab: An easy way to learn and use TensorFlow https://medium.com/tensorflow/colab-an-easy-way-to-learn-and-use-tensorflow-d74d1686e309\n",
        "2.   List item\n",
        "\n"
      ]
    }
  ]
}